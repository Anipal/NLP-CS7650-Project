{
 "cells": [
  {
   "cell_type": "code",
   "execution_count": 1,
   "metadata": {},
   "outputs": [],
   "source": [
    "import json\n",
    "import torch\n",
    "import os\n",
    "import _pickle as cPickle\n",
    "import matplotlib.pyplot as plt\n",
    "import numpy as np"
   ]
  },
  {
   "cell_type": "code",
   "execution_count": 8,
   "metadata": {},
   "outputs": [],
   "source": [
    "with open('./images128x128.pkl','rb') as f:\n",
    "    img = cPickle.load(f)"
   ]
  },
  {
   "cell_type": "code",
   "execution_count": 11,
   "metadata": {},
   "outputs": [
    {
     "name": "stdout",
     "output_type": "stream",
     "text": [
      "torch.Size([2, 1, 128, 128])\n"
     ]
    }
   ],
   "source": [
    "cc =torch.randn(2,1,128,128)\n",
    "print(cc.shape)"
   ]
  },
  {
   "cell_type": "code",
   "execution_count": 55,
   "metadata": {},
   "outputs": [
    {
     "name": "stdout",
     "output_type": "stream",
     "text": [
      "(315, 128, 128, 1)\n"
     ]
    }
   ],
   "source": [
    "print(img.shape)"
   ]
  },
  {
   "cell_type": "code",
   "execution_count": 60,
   "metadata": {},
   "outputs": [
    {
     "name": "stdout",
     "output_type": "stream",
     "text": [
      "(16384,)\n"
     ]
    }
   ],
   "source": [
    "c= img[2].reshape(128*128)\n",
    "print(c.shape)"
   ]
  },
  {
   "cell_type": "code",
   "execution_count": null,
   "metadata": {},
   "outputs": [],
   "source": []
  },
  {
   "cell_type": "code",
   "execution_count": 2,
   "metadata": {},
   "outputs": [],
   "source": [
    "from PIL import Image"
   ]
  },
  {
   "cell_type": "code",
   "execution_count": 32,
   "metadata": {},
   "outputs": [],
   "source": [
    "pic = Image.open('/Users/liubo/Desktop/JupyterCode/MICCAI19-MedVQA-master/data_RAD/images/synpic16520.jpg')"
   ]
  },
  {
   "cell_type": "code",
   "execution_count": 65,
   "metadata": {},
   "outputs": [],
   "source": [
    "images_path = '/Users/liubo/Desktop/JupyterCode/MICCAI19-MedVQA-master/data_RAD/images'"
   ]
  },
  {
   "cell_type": "code",
   "execution_count": 71,
   "metadata": {},
   "outputs": [
    {
     "name": "stdout",
     "output_type": "stream",
     "text": [
      "(7056,)\n",
      "(7056,)\n",
      "(7056,)\n",
      "(7056,)\n",
      "(7056,)\n",
      "(7056,)\n",
      "(7056,)\n",
      "(7056,)\n",
      "(7056,)\n",
      "(7056,)\n",
      "(7056,)\n",
      "(7056,)\n",
      "(7056,)\n",
      "(7056,)\n",
      "(7056,)\n",
      "(7056,)\n",
      "(7056,)\n",
      "(7056,)\n",
      "(7056,)\n",
      "(7056,)\n",
      "(7056,)\n",
      "(7056,)\n",
      "(7056,)\n",
      "(7056,)\n",
      "(7056,)\n",
      "(7056,)\n",
      "(7056,)\n",
      "(7056,)\n",
      "(7056,)\n",
      "(7056,)\n",
      "(7056,)\n",
      "(7056,)\n",
      "(7056,)\n",
      "(7056,)\n",
      "(7056,)\n",
      "(7056,)\n",
      "(7056,)\n",
      "(7056,)\n",
      "(7056,)\n",
      "(7056,)\n",
      "(7056,)\n",
      "(7056,)\n",
      "(7056,)\n",
      "(7056,)\n",
      "(7056,)\n",
      "(7056,)\n",
      "(7056,)\n",
      "(7056,)\n",
      "(7056,)\n",
      "(7056,)\n",
      "(7056,)\n",
      "(7056,)\n",
      "(7056,)\n",
      "(7056,)\n",
      "(7056,)\n",
      "(7056,)\n",
      "(7056,)\n",
      "(7056,)\n",
      "(7056,)\n",
      "(7056,)\n",
      "(7056,)\n",
      "(7056,)\n",
      "(7056,)\n",
      "(7056,)\n",
      "(7056,)\n",
      "(7056,)\n",
      "(7056,)\n",
      "(7056,)\n",
      "(7056,)\n",
      "(7056,)\n",
      "(7056,)\n",
      "(7056,)\n",
      "(7056,)\n",
      "(7056,)\n",
      "(7056,)\n",
      "(7056,)\n",
      "(7056,)\n",
      "(7056,)\n",
      "(7056,)\n",
      "(7056,)\n",
      "(7056,)\n",
      "(7056,)\n",
      "(7056,)\n",
      "(7056,)\n",
      "(7056,)\n",
      "(7056,)\n",
      "(7056,)\n",
      "(7056,)\n",
      "(7056,)\n",
      "(7056,)\n",
      "(7056,)\n",
      "(7056,)\n",
      "(7056,)\n",
      "(7056,)\n",
      "(7056,)\n",
      "(7056,)\n",
      "(7056,)\n",
      "(7056,)\n",
      "(7056,)\n",
      "(7056,)\n",
      "(7056,)\n",
      "(7056,)\n",
      "(7056,)\n",
      "(7056,)\n",
      "(7056,)\n",
      "(7056,)\n",
      "(7056,)\n",
      "(7056,)\n",
      "(7056,)\n",
      "(7056,)\n",
      "(7056,)\n",
      "(7056,)\n",
      "(7056,)\n",
      "(7056,)\n",
      "(7056,)\n",
      "(7056,)\n",
      "(7056,)\n",
      "(7056,)\n",
      "(7056,)\n",
      "(7056,)\n",
      "(7056,)\n",
      "(7056,)\n",
      "(7056,)\n",
      "(7056,)\n",
      "(7056,)\n",
      "(7056,)\n",
      "(7056,)\n",
      "(7056,)\n",
      "(7056,)\n",
      "(7056,)\n",
      "(7056,)\n",
      "(7056,)\n",
      "(7056,)\n",
      "(7056,)\n",
      "(7056,)\n",
      "(7056,)\n",
      "(7056,)\n",
      "(7056,)\n",
      "(7056,)\n",
      "(7056,)\n",
      "(7056,)\n",
      "(7056,)\n",
      "(7056,)\n",
      "(7056,)\n",
      "(7056,)\n",
      "(7056,)\n",
      "(7056,)\n",
      "(7056,)\n",
      "(7056,)\n",
      "(7056,)\n",
      "(7056,)\n",
      "(7056,)\n",
      "(7056,)\n",
      "(7056,)\n",
      "(7056,)\n",
      "(7056,)\n",
      "(7056,)\n",
      "(7056,)\n",
      "(7056,)\n",
      "(7056,)\n",
      "(7056,)\n",
      "(7056,)\n",
      "(7056,)\n",
      "(7056,)\n",
      "(7056,)\n",
      "(7056,)\n",
      "(7056,)\n",
      "(7056,)\n",
      "(7056,)\n",
      "(7056,)\n",
      "(7056,)\n",
      "(7056,)\n",
      "(7056,)\n",
      "(7056,)\n",
      "(7056,)\n",
      "(7056,)\n",
      "(7056,)\n",
      "(7056,)\n"
     ]
    },
    {
     "ename": "KeyboardInterrupt",
     "evalue": "",
     "output_type": "error",
     "traceback": [
      "\u001b[0;31m---------------------------------------------------------------------------\u001b[0m",
      "\u001b[0;31mKeyboardInterrupt\u001b[0m                         Traceback (most recent call last)",
      "\u001b[0;32m<ipython-input-71-2355b76dd378>\u001b[0m in \u001b[0;36m<module>\u001b[0;34m\u001b[0m\n\u001b[1;32m      2\u001b[0m \u001b[0;32mfor\u001b[0m \u001b[0mpic\u001b[0m \u001b[0;32min\u001b[0m \u001b[0mos\u001b[0m\u001b[0;34m.\u001b[0m\u001b[0mlistdir\u001b[0m\u001b[0;34m(\u001b[0m\u001b[0mimages_path\u001b[0m\u001b[0;34m)\u001b[0m\u001b[0;34m:\u001b[0m\u001b[0;34m\u001b[0m\u001b[0;34m\u001b[0m\u001b[0m\n\u001b[1;32m      3\u001b[0m         \u001b[0mimage_path\u001b[0m \u001b[0;34m=\u001b[0m \u001b[0mos\u001b[0m\u001b[0;34m.\u001b[0m\u001b[0mpath\u001b[0m\u001b[0;34m.\u001b[0m\u001b[0mjoin\u001b[0m\u001b[0;34m(\u001b[0m\u001b[0mimages_path\u001b[0m\u001b[0;34m,\u001b[0m\u001b[0mpic\u001b[0m\u001b[0;34m)\u001b[0m\u001b[0;34m\u001b[0m\u001b[0;34m\u001b[0m\u001b[0m\n\u001b[0;32m----> 4\u001b[0;31m         \u001b[0mimage\u001b[0m \u001b[0;34m=\u001b[0m \u001b[0mnp\u001b[0m\u001b[0;34m.\u001b[0m\u001b[0marray\u001b[0m\u001b[0;34m(\u001b[0m\u001b[0mImage\u001b[0m\u001b[0;34m.\u001b[0m\u001b[0mopen\u001b[0m\u001b[0;34m(\u001b[0m\u001b[0mimage_path\u001b[0m\u001b[0;34m)\u001b[0m\u001b[0;34m.\u001b[0m\u001b[0mconvert\u001b[0m\u001b[0;34m(\u001b[0m\u001b[0;34m'L'\u001b[0m\u001b[0;34m)\u001b[0m\u001b[0;34m.\u001b[0m\u001b[0mresize\u001b[0m\u001b[0;34m(\u001b[0m\u001b[0;34m(\u001b[0m\u001b[0;36m84\u001b[0m\u001b[0;34m,\u001b[0m\u001b[0;36m84\u001b[0m\u001b[0;34m)\u001b[0m\u001b[0;34m)\u001b[0m\u001b[0;34m)\u001b[0m\u001b[0;34m\u001b[0m\u001b[0;34m\u001b[0m\u001b[0m\n\u001b[0m\u001b[1;32m      5\u001b[0m         \u001b[0mprint\u001b[0m\u001b[0;34m(\u001b[0m\u001b[0mimage\u001b[0m\u001b[0;34m.\u001b[0m\u001b[0mreshape\u001b[0m\u001b[0;34m(\u001b[0m\u001b[0;36m84\u001b[0m\u001b[0;34m*\u001b[0m\u001b[0;36m84\u001b[0m\u001b[0;34m)\u001b[0m\u001b[0;34m.\u001b[0m\u001b[0mshape\u001b[0m\u001b[0;34m)\u001b[0m\u001b[0;34m\u001b[0m\u001b[0;34m\u001b[0m\u001b[0m\n\u001b[1;32m      6\u001b[0m \u001b[0;34m\u001b[0m\u001b[0m\n",
      "\u001b[0;32m/Library/Frameworks/Python.framework/Versions/3.7/lib/python3.7/site-packages/PIL/Image.py\u001b[0m in \u001b[0;36mconvert\u001b[0;34m(self, mode, matrix, dither, palette, colors)\u001b[0m\n\u001b[1;32m   1028\u001b[0m \u001b[0;34m\u001b[0m\u001b[0m\n\u001b[1;32m   1029\u001b[0m         \u001b[0;32mtry\u001b[0m\u001b[0;34m:\u001b[0m\u001b[0;34m\u001b[0m\u001b[0;34m\u001b[0m\u001b[0m\n\u001b[0;32m-> 1030\u001b[0;31m             \u001b[0mim\u001b[0m \u001b[0;34m=\u001b[0m \u001b[0mself\u001b[0m\u001b[0;34m.\u001b[0m\u001b[0mim\u001b[0m\u001b[0;34m.\u001b[0m\u001b[0mconvert\u001b[0m\u001b[0;34m(\u001b[0m\u001b[0mmode\u001b[0m\u001b[0;34m,\u001b[0m \u001b[0mdither\u001b[0m\u001b[0;34m)\u001b[0m\u001b[0;34m\u001b[0m\u001b[0;34m\u001b[0m\u001b[0m\n\u001b[0m\u001b[1;32m   1031\u001b[0m         \u001b[0;32mexcept\u001b[0m \u001b[0mValueError\u001b[0m\u001b[0;34m:\u001b[0m\u001b[0;34m\u001b[0m\u001b[0;34m\u001b[0m\u001b[0m\n\u001b[1;32m   1032\u001b[0m             \u001b[0;32mtry\u001b[0m\u001b[0;34m:\u001b[0m\u001b[0;34m\u001b[0m\u001b[0;34m\u001b[0m\u001b[0m\n",
      "\u001b[0;31mKeyboardInterrupt\u001b[0m: "
     ]
    }
   ],
   "source": [
    "cc = []\n",
    "for pic in os.listdir(images_path):\n",
    "        image_path = os.path.join(images_path,pic)\n",
    "        image = np.array(Image.open(image_path).convert('L').resize((84,84)))\n",
    "        print(image.reshape(84*84).shape)\n",
    "        \n",
    "cc = np.array(cc)"
   ]
  },
  {
   "cell_type": "code",
   "execution_count": 59,
   "metadata": {},
   "outputs": [
    {
     "name": "stdout",
     "output_type": "stream",
     "text": [
      "(315, 84, 84)\n"
     ]
    }
   ],
   "source": [
    "print(cc.shape)"
   ]
  },
  {
   "cell_type": "code",
   "execution_count": 38,
   "metadata": {},
   "outputs": [
    {
     "data": {
      "text/plain": [
       "<matplotlib.image.AxesImage at 0x12bf41588>"
      ]
     },
     "execution_count": 38,
     "metadata": {},
     "output_type": "execute_result"
    },
    {
     "data": {
      "image/png": "[encoded data removed]",
      "text/plain": [
       "<Figure size 432x288 with 1 Axes>"
      ]
     },
     "metadata": {
      "needs_background": "light"
     },
     "output_type": "display_data"
    }
   ],
   "source": [
    "plt.imshow(pic)"
   ]
  },
  {
   "cell_type": "code",
   "execution_count": 5,
   "metadata": {},
   "outputs": [
    {
     "name": "stdout",
     "output_type": "stream",
     "text": [
      "(128, 128, 1)\n",
      "(128, 128)\n"
     ]
    },
    {
     "data": {
      "image/png": "[encoded data removed]",
      "text/plain": [
       "<Figure size 432x288 with 1 Axes>"
      ]
     },
     "metadata": {
      "needs_background": "light"
     },
     "output_type": "display_data"
    }
   ],
   "source": [
    "print(img[2].shape)\n",
    "img = img[2].squeeze(2)\n",
    "print(img.shape)\n",
    "plt.imshow(img,cmap='gray')\n",
    "plt.show()"
   ]
  },
  {
   "cell_type": "code",
   "execution_count": 10,
   "metadata": {},
   "outputs": [
    {
     "name": "stdout",
     "output_type": "stream",
     "text": [
      "[[[0.        ]\n",
      "  [0.        ]\n",
      "  [0.        ]\n",
      "  ...\n",
      "  [0.        ]\n",
      "  [0.        ]\n",
      "  [0.        ]]\n",
      "\n",
      " [[0.        ]\n",
      "  [0.        ]\n",
      "  [0.        ]\n",
      "  ...\n",
      "  [0.02745098]\n",
      "  [0.00784314]\n",
      "  [0.        ]]\n",
      "\n",
      " [[0.        ]\n",
      "  [0.        ]\n",
      "  [0.        ]\n",
      "  ...\n",
      "  [0.0627451 ]\n",
      "  [0.01960784]\n",
      "  [0.00392157]]\n",
      "\n",
      " ...\n",
      "\n",
      " [[0.00392157]\n",
      "  [0.00392157]\n",
      "  [0.00392157]\n",
      "  ...\n",
      "  [0.00392157]\n",
      "  [0.00392157]\n",
      "  [0.00392157]]\n",
      "\n",
      " [[0.00392157]\n",
      "  [0.00392157]\n",
      "  [0.00392157]\n",
      "  ...\n",
      "  [0.00392157]\n",
      "  [0.00392157]\n",
      "  [0.00392157]]\n",
      "\n",
      " [[0.00392157]\n",
      "  [0.00392157]\n",
      "  [0.00392157]\n",
      "  ...\n",
      "  [0.00392157]\n",
      "  [0.00392157]\n",
      "  [0.00392157]]]\n"
     ]
    }
   ],
   "source": [
    "print(img[2])"
   ]
  }
 ],
 "metadata": {
  "kernelspec": {
   "display_name": "Python 3",
   "language": "python",
   "name": "python3"
  },
  "language_info": {
   "codemirror_mode": {
    "name": "ipython",
    "version": 3
   },
   "file_extension": ".py",
   "mimetype": "text/x-python",
   "name": "python",
   "nbconvert_exporter": "python",
   "pygments_lexer": "ipython3",
   "version": "3.7.2"
  }
 },
 "nbformat": 4,
 "nbformat_minor": 2
}
